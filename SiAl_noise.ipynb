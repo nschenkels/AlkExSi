{
 "cells": [
  {
   "cell_type": "markdown",
   "metadata": {},
   "source": [
    "# Noise analysis\n",
    "\n",
    "Analyzing the noise level of the data.\n",
    "\n",
    "## Load packages:"
   ]
  },
  {
   "cell_type": "code",
   "execution_count": null,
   "metadata": {
    "collapsed": false
   },
   "outputs": [],
   "source": [
    "import numpy as np\n",
    "import matplotlib.pyplot as plt\n",
    "import pandas as pd\n",
    "\n",
    "% matplotlib notebook"
   ]
  },
  {
   "cell_type": "markdown",
   "metadata": {},
   "source": [
    "## Read & clean the data:"
   ]
  },
  {
   "cell_type": "code",
   "execution_count": null,
   "metadata": {
    "collapsed": false
   },
   "outputs": [],
   "source": [
    "files = [['ReferenceData/Sample1Run1.csv', 'ReferenceData/Sample1Run2.csv', 'ReferenceData/Sample1Run3.csv'],\n",
    "         ['ReferenceData/Sample2Run1.csv', 'ReferenceData/Sample2Run2.csv', 'ReferenceData/Sample2Run3.csv'],\n",
    "         ['ReferenceData/Sample3Run1.csv', 'ReferenceData/Sample3Run2.csv', 'ReferenceData/Sample3Run3.csv'],\n",
    "         ['ReferenceData/Sample4Run1.csv', 'ReferenceData/Sample4Run2.csv', 'ReferenceData/Sample4Run3.csv']]"
   ]
  },
  {
   "cell_type": "code",
   "execution_count": null,
   "metadata": {
    "collapsed": false
   },
   "outputs": [],
   "source": [
    "time = [[0, 0, 0], [0, 0, 0], [0, 0, 0], [0, 0, 0]]\n",
    "SiBar = [[0, 0, 0], [0, 0, 0], [0, 0, 0], [0, 0, 0]]\n",
    "AlBar = [[0, 0, 0], [0, 0, 0], [0, 0, 0], [0, 0, 0]]\n",
    "\n",
    "for i in range(4):\n",
    "    for j in range(3):\n",
    "        data = pd.read_csv(files[i][j], delimiter = ';', header = 0, names = ['time', 'SiBar', 'AlBar'])\n",
    "        data = data.dropna(how = 'any')\n",
    "        data_np = data.as_matrix()\n",
    "        time[i][j] = data_np[:, 0]\n",
    "        SiBar[i][j] = data_np[:, 1]\n",
    "        AlBar[i][j] = data_np[:, 2]"
   ]
  },
  {
   "cell_type": "markdown",
   "metadata": {},
   "source": [
    "## Calculate the average concentration:"
   ]
  },
  {
   "cell_type": "code",
   "execution_count": null,
   "metadata": {
    "collapsed": true
   },
   "outputs": [],
   "source": [
    "# Some indices:\n",
    "index = [[0, 0, 0], [0, 0, 0], [0, 0, 0], [0, 0, 0]]\n",
    "for i in range(4):\n",
    "    for j in range(3):\n",
    "        index1 = np.in1d(time[i][j], time[i][(j + 1)%3])\n",
    "        index2 = np.in1d(time[i][j], time[i][(j + 2)%3])\n",
    "        index[i][j] = index1*index2    # <=> index1 AND index2\n",
    "\n",
    "# Average concentrations:\n",
    "timeAv = [0, 0, 0, 0]\n",
    "SiAv = [0, 0, 0, 0]\n",
    "AlAv = [0, 0, 0, 0]\n",
    "for i in range(4):\n",
    "    # Extract the common measurement times:\n",
    "    timeAv[i] = time[i][0][index[i][0]]\n",
    "    \n",
    "    #\n",
    "    SiAv[i] = np.zeros(len(timeAv[i]))\n",
    "    AlAv[i] = np.zeros(len(timeAv[i]))\n",
    "    for j in range(3):        \n",
    "        # Calcuate average Si and Al value:\n",
    "        SiAv[i] = SiAv[i] + SiBar[i][j][index[i][j]]/3\n",
    "        AlAv[i] = AlAv[i] + AlBar[i][j][index[i][j]]/3"
   ]
  },
  {
   "cell_type": "markdown",
   "metadata": {},
   "source": [
    "## Plot silicium data:"
   ]
  },
  {
   "cell_type": "code",
   "execution_count": null,
   "metadata": {
    "collapsed": false,
    "scrolled": false
   },
   "outputs": [],
   "source": [
    "for i in range(4):\n",
    "    plt.figure()\n",
    "    for j in range(3):\n",
    "        plt.plot(time[i][j], SiBar[i][j], ',', label = 'Run ' + str(j + 1))\n",
    "    plt.plot(timeAv[i], SiAv[i], linewidth = 2.5, label = 'Average value')\n",
    "    plt.title('Data from sample ' + str(i + 1))\n",
    "    plt.xlabel('t')\n",
    "    plt.ylabel('Si(t)')\n",
    "    plt.legend(loc = 4)"
   ]
  },
  {
   "cell_type": "markdown",
   "metadata": {},
   "source": [
    "## Plot Aluminum data:"
   ]
  },
  {
   "cell_type": "code",
   "execution_count": null,
   "metadata": {
    "collapsed": false,
    "scrolled": false
   },
   "outputs": [],
   "source": [
    "for i in range(4):\n",
    "    plt.figure()\n",
    "    for j in range(3):\n",
    "        plt.plot(time[i][j], AlBar[i][j], ',', label = 'Run ' + str(j + 1))\n",
    "    plt.plot(timeAv[i], AlAv[i], linewidth = 2.5, label = 'Average value')\n",
    "    plt.title('Data from sample ' + str(i + 1))\n",
    "    plt.xlabel('t')\n",
    "    plt.ylabel('Si(t)')\n",
    "    plt.legend(loc = 4)"
   ]
  },
  {
   "cell_type": "markdown",
   "metadata": {},
   "source": [
    "## Plot Silicium and Aluminum data:"
   ]
  },
  {
   "cell_type": "code",
   "execution_count": null,
   "metadata": {
    "collapsed": false,
    "scrolled": false
   },
   "outputs": [],
   "source": [
    "for i in range(4):\n",
    "    plt.figure()\n",
    "    for j in range(3):\n",
    "        plt.plot(time[i][j], SiBar[i][j], 'r,')\n",
    "        plt.plot(time[i][j], AlBar[i][j], 'b,')\n",
    "    plt.plot(timeAv[i], SiAv[i], 'r', linewidth = 2.5)\n",
    "    plt.plot(timeAv[i], AlAv[i], 'b', linewidth = 2.5)\n",
    "    plt.title('Data from sample ' + str(i + 1))\n",
    "    plt.xlabel('t')\n",
    "    plt.ylabel('Si(t) (red) & Al(t) (blue)')"
   ]
  },
  {
   "cell_type": "markdown",
   "metadata": {},
   "source": [
    "## Calculate standard deviation for the Silicium concentrations:"
   ]
  },
  {
   "cell_type": "code",
   "execution_count": null,
   "metadata": {
    "collapsed": false
   },
   "outputs": [],
   "source": [
    "varSi = [[0, 0, 0], [0, 0, 0], [0, 0, 0], [0, 0, 0]]\n",
    "stdSi = [0, 0, 0, 0]\n",
    "for i in range(4):\n",
    "    for j in range(3):\n",
    "        varSi[i][j] = np.sum((SiBar[i][j][index[i][j]] - SiAv[i])**2)/len(SiAv[i])\n",
    "    stdSi[i] = sum(np.sqrt(varSi[i]))/3\n",
    "stdSiAv = sum(stdSi)/4\n",
    "stdSiMax = max(stdSi)\n",
    "\n",
    "print 'Standard deviation of the Silicium concentrations per sample:'\n",
    "print '\\t\\t', stdSi\n",
    "print '=> Average standard deviation of the Silicium concentrations:', stdSiAv\n",
    "print '=> Maximum standard deviation of the Silicium concentrations:', stdSiMax"
   ]
  },
  {
   "cell_type": "markdown",
   "metadata": {},
   "source": [
    "## Plot deviation of the mean for the Silicium concentrations:"
   ]
  },
  {
   "cell_type": "code",
   "execution_count": null,
   "metadata": {
    "collapsed": false,
    "scrolled": false
   },
   "outputs": [],
   "source": [
    "for i in range(4):\n",
    "    plt.figure()\n",
    "    for j in range(3):\n",
    "        plt.plot(time[i][j][index[i][j]], SiBar[i][j][index[i][j]] - SiAv[i], ',', label = 'Run ' + str(j + 1))\n",
    "    plt.title('Data from sample ' + str(i + 1) + ': std = ' + str(stdSi[i]))\n",
    "    plt.xlabel('t')\n",
    "    plt.ylabel('Si(t)')\n",
    "    plt.legend(loc = 4)"
   ]
  },
  {
   "cell_type": "markdown",
   "metadata": {},
   "source": [
    "## Calculate standard deviation for the Aluminum concentrations:"
   ]
  },
  {
   "cell_type": "code",
   "execution_count": null,
   "metadata": {
    "collapsed": false
   },
   "outputs": [],
   "source": [
    "varAl = [[0, 0, 0], [0, 0, 0], [0, 0, 0], [0, 0, 0]]\n",
    "stdAl = [0, 0, 0, 0]\n",
    "for i in range(4):\n",
    "    for j in range(3):\n",
    "        varAl[i][j] = np.sum((AlBar[i][j][index[i][j]] - AlAv[i])**2)/len(AlAv[i])\n",
    "    stdAl[i] = sum(np.sqrt(varAl[i]))/3\n",
    "stdAlAv = sum(stdAl)/4\n",
    "stdAlMax = max(stdAl)\n",
    "\n",
    "print 'Standard deviation of the Aluminum concentrations per sample:'\n",
    "print '\\t\\t', stdAl\n",
    "print '=> Average standard deviation of the Aluminum concentrations:', stdAlAv\n",
    "print '=> Maximum standard deviation of the Aluminum concentrations:', stdAlMax"
   ]
  },
  {
   "cell_type": "markdown",
   "metadata": {},
   "source": [
    "## Plot deviation of the mean for the Aluminum concentrations:"
   ]
  },
  {
   "cell_type": "code",
   "execution_count": null,
   "metadata": {
    "collapsed": false,
    "scrolled": false
   },
   "outputs": [],
   "source": [
    "for i in range(4):\n",
    "    plt.figure()\n",
    "    for j in range(3):\n",
    "        plt.plot(time[i][j][index[i][j]], AlBar[i][j][index[i][j]] - AlAv[i], ',', label = 'Run ' + str(j + 1))\n",
    "    plt.title('Data from sample ' + str(i + 1) + ': std = ' + str(stdAl[i]))\n",
    "    plt.xlabel('t')\n",
    "    plt.ylabel('Al(t)')\n",
    "    plt.legend(loc = 4)"
   ]
  },
  {
   "cell_type": "markdown",
   "metadata": {},
   "source": [
    "## Calculate average standard deviation:"
   ]
  },
  {
   "cell_type": "code",
   "execution_count": null,
   "metadata": {
    "collapsed": false
   },
   "outputs": [],
   "source": [
    "var = [[0, 0, 0], [0, 0, 0], [0, 0, 0], [0, 0, 0]]\n",
    "std = [0, 0, 0, 0]\n",
    "for i in range(4):\n",
    "    for j in range(3):\n",
    "        var[i][j] = (np.sum((SiBar[i][j][index[i][j]] - SiAv[i])**2) + np.sum((AlBar[i][j][index[i][j]] - AlAv[i])**2)\n",
    "                    )/(len(SiAv[i]) + len(AlAv[i]))\n",
    "    std[i] = sum(np.sqrt(var[i]))/3\n",
    "stdAv = sum(std)/4\n",
    "stdMax = max(std)\n",
    "\n",
    "print 'Standard deviation per sample:', std\n",
    "print '=> Average standard deviation:', stdAv\n",
    "print '=> Average standard deviation:', stdMax"
   ]
  },
  {
   "cell_type": "markdown",
   "metadata": {},
   "source": [
    "## Sumerize the results:"
   ]
  },
  {
   "cell_type": "code",
   "execution_count": null,
   "metadata": {
    "collapsed": false,
    "scrolled": true
   },
   "outputs": [],
   "source": [
    "print 'Standard deviation of the Silicium concentrations per sample:'\n",
    "print '\\t\\t', stdSi\n",
    "print '=> Average standard deviation of the Silicium concentrations:', stdSiAv\n",
    "print '=> Maximum standard deviation of the Silicium concentrations:', stdSiMax\n",
    "print ''\n",
    "print 'Standard deviation of the Aluminum concentrations per sample:'\n",
    "print '\\t\\t', stdAl\n",
    "print '=> Average standard deviation of the Aluminum concentrations:', stdAlAv\n",
    "print '=> Maximum standard deviation of the Aluminum concentrations:', stdAlMax\n",
    "print ''\n",
    "print 'Standard deviation per sample:', std\n",
    "print '=> Average standard deviation:', stdAv\n",
    "print '=> Maximum standard deviation:', stdMax"
   ]
  },
  {
   "cell_type": "markdown",
   "metadata": {},
   "source": [
    "# Update\n",
    "\n",
    "## The noise is not normally distributed:"
   ]
  },
  {
   "cell_type": "code",
   "execution_count": null,
   "metadata": {
    "collapsed": true
   },
   "outputs": [],
   "source": [
    "from scipy.stats.mstats import normaltest"
   ]
  },
  {
   "cell_type": "code",
   "execution_count": null,
   "metadata": {
    "collapsed": false
   },
   "outputs": [],
   "source": [
    "# Choose i = 0, 1, 2 or 3: (This is the number of the sample - 1)\n",
    "i = 1\n",
    "\n",
    "# Choose j = 0, 1 or 2: (This is the number of the run - 1 for that sample)\n",
    "j = 1\n",
    "\n",
    "noiseSi = SiBar[i][j][index[i][j]] - SiAv[i]\n",
    "noiseAl = AlBar[i][j][index[i][j]] - AlAv[i]\n",
    "\n",
    "plt.figure()\n",
    "plt.hist(noiseSi, bins = 100)\n",
    "plt.title('Histogram of the noise in the Si data')\n",
    "plt.show()\n",
    "\n",
    "plt.figure()\n",
    "plt.hist(noiseAl, bins = 100)\n",
    "plt.title('Histogram of the noise in the Al data')\n",
    "plt.show()\n",
    "\n",
    "print normaltest(noiseSi)\n",
    "print normaltest(noiseAl)"
   ]
  },
  {
   "cell_type": "markdown",
   "metadata": {},
   "source": [
    "## Percentage errors:"
   ]
  },
  {
   "cell_type": "code",
   "execution_count": null,
   "metadata": {
    "collapsed": false
   },
   "outputs": [],
   "source": [
    "noiseSiperc = 100*noiseSi/SiAv[i]\n",
    "noiseAlperc = 100*noiseAl/AlAv[i]\n",
    "\n",
    "plt.figure()\n",
    "plt.hist(noiseSiperc, bins = 100, range = (-25, 25))\n",
    "plt.title('Histogram of the noise in the Si data')\n",
    "plt.show()\n",
    "\n",
    "plt.figure()\n",
    "plt.hist(noiseAlperc, bins = 100, range = (-25, 25))\n",
    "plt.title('Histogram of the noise in the Al data')\n",
    "plt.show()\n",
    "\n",
    "print normaltest(noiseSiperc)\n",
    "print normaltest(noiseAlperc)"
   ]
  },
  {
   "cell_type": "markdown",
   "metadata": {},
   "source": [
    "## Let's try something:\n",
    "\n",
    "By looking at the histograms of the percentage of the error for some of the samples, it seems that most of the errors fall within 10% of the averaged curve. Can we justify this???\n",
    "\n",
    "First, lets look at the data again and plotting bands of 10% around the averaged curve (the bands are given by the thick dashed lines)."
   ]
  },
  {
   "cell_type": "code",
   "execution_count": null,
   "metadata": {
    "collapsed": false,
    "scrolled": false
   },
   "outputs": [],
   "source": [
    "for i in range(4):\n",
    "    plt.figure()\n",
    "    for j in range(3):\n",
    "        plt.plot(time[i][j], SiBar[i][j], 'r,')\n",
    "        plt.plot(time[i][j], AlBar[i][j], 'b,')\n",
    "    plt.plot(timeAv[i], 1.1*SiAv[i], 'r--', linewidth = 2.5)\n",
    "    plt.plot(timeAv[i], SiAv[i], 'r', linewidth = 2.5)\n",
    "    plt.plot(timeAv[i], 0.9*SiAv[i], 'r--', linewidth = 2.5)\n",
    "    plt.plot(timeAv[i], 1.1*AlAv[i], 'b--', linewidth = 2.5)\n",
    "    plt.plot(timeAv[i], AlAv[i], 'b', linewidth = 2.5)\n",
    "    plt.plot(timeAv[i], 0.9*AlAv[i], 'b--', linewidth = 2.5)\n",
    "    plt.title('Data from sample ' + str(i + 1))\n",
    "    plt.xlabel('t')\n",
    "    plt.ylabel('Si(t) (red) & Al(t) (blue)')"
   ]
  },
  {
   "cell_type": "markdown",
   "metadata": {},
   "source": [
    "A 10% error doesn't seem to be a bad bound on the error. Only at the very beginning this doesn't seem to hold up. However, to really test this theory, we would need to compare it to more runs of the same sample. Furthermore, the 10% bound we choose is a little bit ad hoc at the moment, so let's find a more robust and mathematically motivated way to get an estimate for the percentage error, which we'll call $\\gamma$.\n",
    "\n",
    "## Idea:\n",
    "\n",
    "Let's calculate the percentage error in each point and then choose $\\gamma$ such that $(1 - \\alpha)$ percent of the measurements fall within these bands."
   ]
  },
  {
   "cell_type": "code",
   "execution_count": null,
   "metadata": {
    "collapsed": false
   },
   "outputs": [],
   "source": [
    "gammaSi = np.zeros((4, 3))\n",
    "gammaAl = np.zeros((5, 3))\n",
    "\n",
    "alpha = 0.10        # So 90% of the measurement fall within the percentage error band.\n",
    "\n",
    "for i in range(4):\n",
    "    for j in range(3):\n",
    "        # Errors:\n",
    "        noiseSi = SiBar[i][j][index[i][j]] - SiAv[i]\n",
    "        noiseAl = AlBar[i][j][index[i][j]] - AlAv[i]\n",
    "        \n",
    "        # Percentage errors:\n",
    "        noiseSiperc = 100*noiseSi/SiAv[i]\n",
    "        noiseAlperc = 100*noiseAl/AlAv[i]\n",
    "        \n",
    "        # Start estimation for Si:\n",
    "        for gSi in range(1, 101):\n",
    "            inband = np.abs(noiseSiperc) < gSi\n",
    "            conf = float(inband.sum())/inband.size\n",
    "            if 1 - alpha < conf:\n",
    "                break\n",
    "        gammaSi[i, j] = gSi\n",
    "        \n",
    "        # Start estimation for Al:\n",
    "        for gAl in range(1, 101):\n",
    "            inband = np.abs(noiseAlperc) < gAl\n",
    "            conf = float(inband.sum())/inband.size\n",
    "            if 1 - alpha < conf:\n",
    "                break\n",
    "        gammaAl[i, j] = gAl"
   ]
  },
  {
   "cell_type": "code",
   "execution_count": null,
   "metadata": {
    "collapsed": false,
    "scrolled": false
   },
   "outputs": [],
   "source": [
    "print \"For Si we found the following percentage errors:\"\n",
    "for i in range(4):\n",
    "    print \"\\t Sample\", i + 1, \": \"\n",
    "    for j in range(3):\n",
    "        print \"\\t\\t Run\", j + 1, \": \", gammaSi[i, j]\n",
    "    print \"\\t\\t Averaged: \", gammaSi[i].sum()/3.0\n",
    "gammaSiAv = gammaSi.sum()/12.0\n",
    "gammaSimax = gammaSi.max()\n",
    "print \"The average percentage error over all Si measurements: \", gammaSiAv\n",
    "print \"The maximum percentage error over all Si measurements: \", gammaSimax\n",
    "\n",
    "print \"\"\n",
    "\n",
    "print \"For Al we found the following percentage errors:\"\n",
    "for i in range(4):\n",
    "    print \"\\t Sample\", i + 1, \": \"\n",
    "    for j in range(3):\n",
    "        print \"\\t\\t Run\", j + 1, \": \", gammaAl[i, j]\n",
    "    print \"\\t\\t Averaged: \", gammaAl[i].sum()/3.0\n",
    "gammaAlAv = gammaAl.sum()/12.0\n",
    "gammaAlmax = gammaAl.max()\n",
    "print \"The average percentage error over all Al measurements: \", gammaAlAv\n",
    "print \"The maximum percentage error over all Al measurements: \", gammaAlmax\n",
    "\n",
    "print \"\"\n",
    "\n",
    "gammaAv = (gammaSiAv + gammaAlAv)/2\n",
    "gammamax = max([gammaSimax, gammaAlmax])\n",
    "\n",
    "print \"The averge percentage error over all measurements: \", gammaAv\n",
    "print \"The maximum percentage error over all measurements: \", gammamax\n"
   ]
  },
  {
   "cell_type": "markdown",
   "metadata": {},
   "source": [
    "## Results:\n",
    "\n",
    "From this analysis we find that $\\gamma\\approx 6.4167$ for the Si measurments and $\\gamma\\approx 7.3333$ for the Al measurements. Using these values we get the following bands:"
   ]
  },
  {
   "cell_type": "code",
   "execution_count": null,
   "metadata": {
    "collapsed": false,
    "scrolled": false
   },
   "outputs": [],
   "source": [
    "for i in range(4):\n",
    "    plt.figure()\n",
    "    for j in range(3):\n",
    "        plt.plot(time[i][j], SiBar[i][j], 'r,')\n",
    "        plt.plot(time[i][j], AlBar[i][j], 'b,')\n",
    "    plt.plot(timeAv[i], (1 + gammaSimax/100)*SiAv[i], 'r--', linewidth = 2.5)\n",
    "    plt.plot(timeAv[i], SiAv[i], 'r', linewidth = 2.5)\n",
    "    plt.plot(timeAv[i], (1 - gammaSimax/100)*SiAv[i], 'r--', linewidth = 2.5)\n",
    "    plt.plot(timeAv[i], (1 + gammaAlmax/100)*AlAv[i], 'b--', linewidth = 2.5)\n",
    "    plt.plot(timeAv[i], AlAv[i], 'b', linewidth = 2.5)\n",
    "    plt.plot(timeAv[i], (1 - gammaAlmax/100)*AlAv[i], 'b--', linewidth = 2.5)\n",
    "    plt.title('Data from sample ' + str(i + 1))\n",
    "    plt.xlabel('t')\n",
    "    plt.ylabel('Si(t) (red) & Al(t) (blue)')"
   ]
  },
  {
   "cell_type": "markdown",
   "metadata": {},
   "source": [
    "Using the maximum $\\gamma = 11.0\\%$ over all the measurements we find the following bands:"
   ]
  },
  {
   "cell_type": "code",
   "execution_count": null,
   "metadata": {
    "collapsed": false,
    "scrolled": false
   },
   "outputs": [],
   "source": [
    "for i in range(4):\n",
    "    plt.figure()\n",
    "    for j in range(3):\n",
    "        plt.plot(time[i][j], SiBar[i][j], 'r,')\n",
    "        plt.plot(time[i][j], AlBar[i][j], 'b,')\n",
    "    plt.plot(timeAv[i], (1 + gammamax/100)*SiAv[i], 'r--', linewidth = 2.5)\n",
    "    plt.plot(timeAv[i], SiAv[i], 'r', linewidth = 2.5)\n",
    "    plt.plot(timeAv[i], (1 - gammamax/100)*SiAv[i], 'r--', linewidth = 2.5)\n",
    "    plt.plot(timeAv[i], (1 + gammamax/100)*AlAv[i], 'b--', linewidth = 2.5)\n",
    "    plt.plot(timeAv[i], AlAv[i], 'b', linewidth = 2.5)\n",
    "    plt.plot(timeAv[i], (1 - gammamax/100)*AlAv[i], 'b--', linewidth = 2.5)\n",
    "    plt.title('Data from sample ' + str(i + 1))\n",
    "    plt.xlabel('t')\n",
    "    plt.ylabel('Si(t) (red) & Al(t) (blue)')"
   ]
  },
  {
   "cell_type": "markdown",
   "metadata": {},
   "source": [
    "## Extra verification:\n",
    "\n",
    "We can now see if for a given set of measurements, these measurments fall within the $\\gamma$ bound of the average measurements. If $\\gamma$ was found for a certain value of $\\alpha$, then $(1 - \\alpha)$ percent of the measuremnts should fall within this bound.\n",
    "\n",
    "Let's check this using $\\alpha = 10\\%$ and thus $\\gamma = 11.0\\%$."
   ]
  },
  {
   "cell_type": "code",
   "execution_count": null,
   "metadata": {
    "collapsed": false
   },
   "outputs": [],
   "source": [
    "gamma = 11\n",
    "alpha = 0.10\n",
    "\n",
    "for i in range(4):\n",
    "    for j in range(3):\n",
    "        #\n",
    "        print \"Case\", i, j, \":\"\n",
    "        \n",
    "        # Errors:\n",
    "        noiseSi = SiBar[i][j][index[i][j]] - SiAv[i]\n",
    "        noiseAl = AlBar[i][j][index[i][j]] - AlAv[i]\n",
    "        \n",
    "        # Percentage errors:\n",
    "        noiseSiperc = 100*noiseSi/SiAv[i]\n",
    "        noiseAlperc = 100*noiseAl/AlAv[i]\n",
    "        \n",
    "        # Verification for Si:\n",
    "        inband = np.abs(noiseSiperc) < gammamax\n",
    "        conf = float(inband.sum())/inband.size\n",
    "        print \"\\t\", conf, \"percent of the Si data fall within the gamma bound.\"\n",
    "        \n",
    "        # Verification for Al\n",
    "        inband = np.abs(noiseAlperc) < gammamax\n",
    "        conf = float(inband.sum())/inband.size\n",
    "        print \"\\t\", conf, \"percent of the Al data fall within the gamma bound.\""
   ]
  },
  {
   "cell_type": "code",
   "execution_count": null,
   "metadata": {
    "collapsed": true
   },
   "outputs": [],
   "source": []
  }
 ],
 "metadata": {
  "anaconda-cloud": {},
  "kernelspec": {
   "display_name": "Python [default]",
   "language": "python",
   "name": "python2"
  },
  "language_info": {
   "codemirror_mode": {
    "name": "ipython",
    "version": 2
   },
   "file_extension": ".py",
   "mimetype": "text/x-python",
   "name": "python",
   "nbconvert_exporter": "python",
   "pygments_lexer": "ipython2",
   "version": "2.7.13"
  }
 },
 "nbformat": 4,
 "nbformat_minor": 1
}
