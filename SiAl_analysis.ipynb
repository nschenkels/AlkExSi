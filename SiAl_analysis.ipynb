{
 "cells": [
  {
   "cell_type": "markdown",
   "metadata": {},
   "source": [
    "# Silicium-Aluminum soil concentration\n",
    "This is a notebook file that discusses the Si-Al soil concentration model. Functions are defined in a seperate file: *SiAl_functions.ipynb*.\n",
    "$$\n",
    "    \\DeclareMathOperator{Si}{Si}\n",
    "    \\DeclareMathOperator{Al}{Al}\n",
    "    \\DeclareMathOperator{exp}{e}\n",
    "    \\DeclareMathOperator{AlkExSi}{AlkExSi}\n",
    "    \\DeclareMathOperator{SiAl}{Si/Al}\n",
    "$$"
   ]
  },
  {
   "cell_type": "code",
   "execution_count": null,
   "metadata": {
    "collapsed": false
   },
   "outputs": [],
   "source": [
    "%run ./SiAl_functions.ipynb"
   ]
  },
  {
   "cell_type": "markdown",
   "metadata": {},
   "source": [
    "# Model\n",
    "We have measurements of of the silicium ($\\Si$) and aluminum ($\\Al$) concentration in a soil sample at different time steps. We now wish to model both concentrations as a function of time using the following expansion:\n",
    "\\begin{align*}\n",
    "    \\Si(t) &= \\sum_{i = 1}^n\\AlkExSi_i(1 - \\exp^{-k_i(t - t_0)}) + b(t - t_0)\\\\\n",
    "    \\Al(t) &= \\sum_{i = 1}^n\\frac{\\AlkExSi_i}{\\SiAl_i}(1 - \\exp^{-k_i(t - t_0)}) + \\frac{b}{\\SiAl_0}(t - t_0)\\\\\n",
    "\\end{align*}\n",
    "Both formulas consist of a linear term plus a number of exponentially decaying parts. The number of the exponentially decaying parts can be chosen in the model. The number of parameters in the model equals $3n + 3$, namely:\n",
    "\\begin{align*}\n",
    "    k_i & \\text{ for }i\\in\\{1, \\ldots, n\\}\\\\\n",
    "    \\AlkExSi_i & \\text{ for }i\\in\\{1, \\ldots, n\\}\\\\\n",
    "    \\SiAl_i & \\text{ for }i\\in\\{1, \\ldots, n\\}\\\\\n",
    "    b &\\\\\n",
    "    \\SiAl_0 &\\\\\n",
    "    t_0 &\n",
    "\\end{align*}\n",
    "\n",
    "# Cost function\n",
    "\n",
    "Let $\\overline{\\Si}$ and $\\overline{\\Al}$ be the vectors in $\\mathbb{R}^m$ containing the observation data at the measurement times $\\{t_1, \\ldots, t_m\\}$ and $\\Si$ and $\\Al$ the vectors in $\\mathbb{R}^m$ with our model predictions (for a certain choice of parameters).\n",
    "The goal now is to minimize the cost function\n",
    "$$\n",
    "    J = \\left\\|\\Si - \\overline{\\Si}\\right\\|_2^2 + \\left\\|\\Al - \\overline{\\Al}\\right\\|_2^2\n",
    "$$\n",
    "with respect to all the parameters.\n",
    "\n",
    "# Read the data\n",
    "\n",
    "We assume the data is given in a .csv file with three columns: time, Si measurements and Al meaurements.\n",
    "\n",
    "The first row may contain names for the columns, but for consitency, these are replaced with the names 'time', 'SiBar' and 'AlBar'. If no columns names are present, the option 'header = None' should be used in stead of 'header = 0'.\n",
    "\n",
    "We assume that decimals are denoted with a '.' and that the delimiter between the columns is a ';'. This can be changed by changing the 'delimiter = ';'' argument.\n",
    "\n",
    "### Select the data file:\n",
    "Either give a relative path or a full path to the data file."
   ]
  },
  {
   "cell_type": "code",
   "execution_count": null,
   "metadata": {
    "collapsed": true
   },
   "outputs": [],
   "source": [
    "# Relative or full path to the data file:\n",
    "filename = 'example_data.csv'     "
   ]
  },
  {
   "cell_type": "code",
   "execution_count": null,
   "metadata": {
    "collapsed": false
   },
   "outputs": [],
   "source": [
    "# Read data with pandas: (possibly change the delimiter and header input)\n",
    "data = pd.read_csv(filename, delimiter = ';', header = 0, names = ['time', 'SiBar', 'AlBar'])  \n",
    "data = data.dropna(how = 'any')\n",
    "\n",
    "# Cast data to ndarray for later calculations with numpy:\n",
    "data_np = data.as_matrix()\n",
    "time = data_np[:, 0]\n",
    "SiBar = data_np[:, 1]\n",
    "AlBar = data_np[:, 2]\n",
    "\n",
    "#\n",
    "nmeas = time.size\n",
    "nsamples = 2*time.size\n",
    "\n",
    "# Show a figure of the measured data:\n",
    "plt.figure()\n",
    "lineSiBar = plt.plot(time, SiBar, 'r,', label = '$\\overline{Si}$')\n",
    "lineAlBar = plt.plot(time, AlBar, 'b,', label = '$\\overline{Al}$')\n",
    "plt.title('Measurement data')\n",
    "plt.xlabel('Time')\n",
    "plt.ylabel('Concentration ($\\mu$mol/L)')\n",
    "plt.legend(loc = 4)\n",
    "plt.show()"
   ]
  },
  {
   "cell_type": "markdown",
   "metadata": {},
   "source": [
    "# Functions\n",
    "\n",
    "The functions needed for the optimization routine and the statistical analysis of the data are defined in the file \"SiAlProblem_Functions.ipyng\". We wil assume that the $3n + 3$ parameters are given as a ndarray of shape (3n + 3, ) in the following order:\n",
    "\n",
    "$$\n",
    "    \\left[k_1, \\ldots, k_n, \\AlkExSi_1, \\ldots, \\AlkExSi_n, \\SiAl_1, \\ldots, \\SiAl_n, b, \\SiAl_0, t_0\\right]\n",
    "$$\n",
    "\n",
    "# Initial estimate\n",
    "\n",
    "Because for example any permuation of the parameter tupples $(\\alpha_i, \\beta_i, k_i)$ is an equivalent reformulation of the optimization problem, it is to be expected that the cost function $J$ will have multiple local minima and maxima. We therefore need a good initial guess of the optimal set of parameters.\n",
    "\n",
    "Consider for now the case $n = 1$, where\n",
    "$$\n",
    "    \\Si(t) = \\AlkExSi(1 - \\exp^{-kt}) + bt.\n",
    "$$\n",
    "The linear part of this formula is given by\n",
    "\n",
    "$$\n",
    "    \\AlkExSi + bt\n",
    "$$\n",
    "\n",
    "which can be estimated by a simple linear regression model on the second part of the data (where t is big). The exponential decaying part can then by approximated by looking at\n",
    "$$\n",
    "    \\exp^{-kt} = (\\AlkExSi + bt) - \\Si(t).\n",
    "$$\n",
    "and thus by performing an exponential regression on the data $(t_i, \\AlkExSi + bt - \\overline{Si}(t_i))$. By doing the same for the $\\Al$ concentration we can also get estimates for $\\SiAl$ and $\\SiAl_0$.\n",
    "\n",
    "When $1 < n$ we base our initial estimate on the parameters found for the model $n - 1$.\n",
    "\n",
    "When $1 < n$ we propose to take all the parameters equal to their $n = 1$ counterpart, except for $\\AlkExSi$, which we replace with $\\AlkExSi/n$. This way the inital estimate is independent of $n$."
   ]
  },
  {
   "cell_type": "code",
   "execution_count": null,
   "metadata": {
    "collapsed": false
   },
   "outputs": [],
   "source": [
    "# Select the linear part of the data:\n",
    "M = len(time[max(time) - 10 < time])                                                    # Take the last 10 minutes of measurents.\n",
    "\n",
    "N = SiBar[M:].size\n",
    "\n",
    "# Linear regression on SiBar data:\n",
    "slopeSi = (np.sum(time[M:]*SiBar[M:]) - np.sum(time[M:])*np.sum(SiBar[M:])/N)/(np.sum(time[M:]**2) - np.sum(time[M:])**2/N)\n",
    "intSi = np.sum(SiBar[M:])/N - slopeSi*np.sum(time[M:])/N\n",
    "SiLin = intSi + slopeSi*time\n",
    "\n",
    "# Linear regression on AlBar data:\n",
    "slopeAl = (np.sum(time[M:]*AlBar[M:]) - np.sum(time[M:])*np.sum(AlBar[M:])/N)/(np.sum(time[M:]**2) - np.sum(time[M:])**2/N)\n",
    "intAl = np.sum(AlBar[M:])/N - slopeAl*np.sum(time[M:])/N\n",
    "AlLin = intAl + slopeAl*time\n",
    "\n",
    "# Select the exponential part of the data:\n",
    "M = len(time[time < 10])                                                            # Take the first 10 minutes of measurements. \n",
    "N = SiBar[M:].size\n",
    "\n",
    "# Exponential decay on SiBar data:\n",
    "index1 = np.where(SiLin - SiBar > 0)      # We can't take the log of negative values. However, due to the noise this might occur.\n",
    "index2 = np.where(index1[0] < M)\n",
    "index3 = index1[0][index2[0]]\n",
    "k0Si = -np.sum((np.log((SiLin - SiBar)[index3]) - np.log(intSi))*time[index3])/np.sum(time[index3]**2)\n",
    "\n",
    "# Exponential decay on AlBar data:\n",
    "index1 = np.where(AlLin - AlBar > 0)      # We can't take the log of negative values. However, due to the noise this might occur.\n",
    "index2 = np.where(index1[0] < M)\n",
    "index3 = index1[0][index2[0]]\n",
    "k0Al = -np.sum((np.log((AlLin - AlBar)[index3]) - np.log(intAl))*time[index3])/np.sum(time[index3]**2)\n",
    "\n",
    "# According to the model, k0Si should be equal to k0Al:\n",
    "k0Exp = (k0Si + k0Al)/2     \n",
    "\n",
    "print 'Intercept and slope SiBar data: ', intSi, '    ', slopeSi, '    ', k0Si\n",
    "print 'Intercept and slope AlBar data: ', intAl, '    ', slopeAl, '    ', k0Al\n",
    "print 'Decay rate used for initial guess:                                    ', k0Exp\n",
    "\n",
    "# De decay rates geven soms nan terug. Moet nog opgelost worden."
   ]
  },
  {
   "cell_type": "code",
   "execution_count": null,
   "metadata": {
    "collapsed": false
   },
   "outputs": [],
   "source": [
    "paras0 = np.array([k0Exp, intSi, intSi/intAl, slopeSi, slopeSi/slopeAl, 0])\n",
    "print 'Inital parameters: ', paras0\n",
    "\n",
    "timeFull = np.linspace(np.min(time), np.max(time), time.size)\n",
    "Si0, Al0 = Model(paras0, timeFull)\n",
    "\n",
    "plt.figure()\n",
    "lineSiBar = plt.plot(time, SiBar, 'r,')\n",
    "lineSi0 = plt.plot(time, Si0, 'r--', label = '$Si$')\n",
    "lineAlBar = plt.plot(time, AlBar, 'b,')\n",
    "lineAl0 = plt.plot(time, Al0, 'b--', label = '$Al$')\n",
    "plt.title('Measurement data & inital guess')\n",
    "plt.xlabel('Time')\n",
    "plt.ylabel('Concentration ($\\mu$mol/L)')\n",
    "plt.legend(loc = 4)\n",
    "plt.show()"
   ]
  },
  {
   "cell_type": "markdown",
   "metadata": {},
   "source": [
    "# Calculate the three models\n",
    "\n",
    "We now calcuate an optimal set of parameters for $n = 1, 2$ and $3$ and compare the results.\n",
    "\n",
    "### n = 1:"
   ]
  },
  {
   "cell_type": "code",
   "execution_count": null,
   "metadata": {
    "collapsed": false,
    "scrolled": false
   },
   "outputs": [],
   "source": [
    "%%time\n",
    "\n",
    "#\n",
    "n = 1\n",
    "paras0 = np.concatenate((k0Exp*np.ones(n), intSi/n*np.ones(n), intSi/intAl*np.ones(n), [slopeSi], [slopeSi/slopeAl], [0]))\n",
    "\n",
    "# Optimization:\n",
    "runs = 3    # Number of runs\n",
    "for i in range(runs):\n",
    "    results = StochasticNewtonMCMC(paras0, SiBar, AlBar, time, samples = 350)    # Number of iterations\n",
    "    results['x'] = Sort_By_k(results['x'])\n",
    "    print results['x'], results['fun'], results['flag_hess'], results['flag_naninf']\n",
    "    if i == 0:\n",
    "        results1 = results\n",
    "    elif results['fun'] < results1['fun']:\n",
    "        results1 = results\n",
    "Si1, Al1 = Model(results1['x'], time)\n",
    "Si1Full, Al1Full = Model(results1['x'], timeFull)\n",
    "\n",
    "# Make a plot of the model:\n",
    "plt.figure()\n",
    "plt.plot(time, SiBar, 'r,')\n",
    "plt.plot(timeFull, Si1Full, 'r', label = 'Si')\n",
    "plt.plot(time, AlBar, 'b')\n",
    "plt.plot(timeFull, Al1Full, 'b', label = 'Al')\n",
    "plt.title('Measurements & model (n = 1)')\n",
    "plt.xlabel('Time')\n",
    "plt.ylabel('Concentration ($\\mu$mol/L)')\n",
    "plt.legend(loc = 4)\n",
    "\n",
    "#\n",
    "k1 = results1['x'][0:n]\n",
    "AlkExSi1 = results1['x'][n:2*n]\n",
    "SiAl1 = results1['x'][2*n:3*n]\n",
    "b1 = results1['x'][3*n]\n",
    "SiAl01 = results1['x'][3*n + 1]\n",
    "t01 = results1['x'][3*n + 2]\n",
    "\n",
    "print '\\nThe following parameters were found:'\n",
    "print '\\tk:      \\t', k1\n",
    "print '\\tAlkExSi:\\t', AlkExSi1\n",
    "print '\\tSi/Al:  \\t', SiAl1\n",
    "print '\\tb:      \\t', b1\n",
    "print '\\tSi/Al0: \\t', SiAl01\n",
    "print '\\tt0:     \\t', t01\n",
    "print ''\n",
    "print 'Cost: ', results1['fun']\n",
    "print ''\n",
    "print results1['flag_hess'], '    ', results1['flag_naninf']"
   ]
  },
  {
   "cell_type": "markdown",
   "metadata": {},
   "source": [
    "### n = 2:"
   ]
  },
  {
   "cell_type": "code",
   "execution_count": null,
   "metadata": {
    "collapsed": false,
    "scrolled": false
   },
   "outputs": [],
   "source": [
    "%%time\n",
    "\n",
    "#\n",
    "n = 2\n",
    "paras0 = np.array([0., k1[0], 0., AlkExSi1[0], 1., SiAl1[0], b1, SiAl01, t01])\n",
    "\n",
    "# Optimization:\n",
    "runs = 3    # Number of runs\n",
    "for i in range(runs):\n",
    "    results = StochasticNewtonMCMC(paras0, SiBar, AlBar, time, samples = 350)    # Number of iterations\n",
    "    results['x'] = Sort_By_k(results['x'])\n",
    "    print results['x'], results['fun'], results['flag_hess'], results['flag_naninf']\n",
    "    if i == 0:\n",
    "        results2 = results\n",
    "    elif results['fun'] < results2['fun']:\n",
    "        results2 = results\n",
    "Si2, Al2 = Model(results2['x'], time)\n",
    "Si2Full, Al2Full = Model(results2['x'], timeFull)\n",
    "\n",
    "# Make a plot of the model:\n",
    "plt.figure()\n",
    "plt.plot(time, SiBar, 'r,')\n",
    "plt.plot(timeFull, Si2Full, 'r', label = 'Si')\n",
    "plt.plot(time, AlBar, 'b')\n",
    "plt.plot(timeFull, Al2Full, 'b', label = 'Al')\n",
    "plt.title('Measurements & model (n = 2)')\n",
    "plt.xlabel('Time')\n",
    "plt.ylabel('Concentration ($\\mu$mol/L)')\n",
    "plt.legend(loc = 4)\n",
    "\n",
    "#\n",
    "k2 = results2['x'][0:n]\n",
    "AlkExSi2 = results2['x'][n:2*n]\n",
    "SiAl2 = results2['x'][2*n:3*n]\n",
    "b2 = results2['x'][3*n]\n",
    "SiAl02 = results2['x'][3*n + 1]\n",
    "t02 = results2['x'][3*n + 2]\n",
    "\n",
    "print '\\nThe following parameters were found:'\n",
    "print '\\tk:      \\t', k2\n",
    "print '\\tAlkExSi:\\t', AlkExSi2\n",
    "print '\\tSi/Al:  \\t', SiAl2\n",
    "print '\\tb:      \\t', b2\n",
    "print '\\tSi/Al0: \\t', SiAl02\n",
    "print '\\tt0:     \\t', t02\n",
    "print ''\n",
    "print 'Cost: ', results2['fun']\n",
    "print ''\n",
    "print results2['flag_hess'], '    ', results2['flag_naninf']"
   ]
  },
  {
   "cell_type": "markdown",
   "metadata": {},
   "source": [
    "### n = 3:"
   ]
  },
  {
   "cell_type": "code",
   "execution_count": null,
   "metadata": {
    "collapsed": false,
    "scrolled": false
   },
   "outputs": [],
   "source": [
    "%%time\n",
    "\n",
    "#\n",
    "n = 3    #Number of runs\n",
    "paras0 = np.array([0., k2[0], k2[1], 0., AlkExSi2[0], AlkExSi2[1], 1., SiAl2[0], SiAl2[1], b2, SiAl02, t02])\n",
    "\n",
    "# Optimization:\n",
    "runs = 3    # Number of runs\n",
    "for i in range(runs):\n",
    "    results = StochasticNewtonMCMC(paras0, SiBar, AlBar, time, samples = 350)    # Number of iterations\n",
    "    results['x'] = Sort_By_k(results['x'])\n",
    "    print results['x'], results['fun'], results['flag_hess'], results['flag_naninf']\n",
    "    if i == 0:\n",
    "        results3 = results\n",
    "    elif results['fun'] < results3['fun']:\n",
    "        results3 = results\n",
    "Si3, Al3 = Model(results3['x'], time)\n",
    "Si3Full, Al3Full = Model(results3['x'], timeFull)\n",
    "\n",
    "# Make a plot of the model:\n",
    "plt.figure()\n",
    "plt.plot(time, SiBar, 'r,')\n",
    "plt.plot(timeFull, Si3Full, 'r', label = 'Si')\n",
    "plt.plot(time, AlBar, 'b,')\n",
    "plt.plot(timeFull, Al3Full, 'b', label = 'Al')\n",
    "plt.title('Measurements & model n = 3')\n",
    "plt.xlabel('Time')\n",
    "plt.ylabel('Concentration ($\\mu$mol/L)')\n",
    "plt.legend(loc = 4)\n",
    "\n",
    "#\n",
    "k3 = results3['x'][0:n]\n",
    "AlkExSi3 = results3['x'][n:2*n]\n",
    "SiAl3 = results3['x'][2*n:3*n]\n",
    "b3 = results3['x'][3*n]\n",
    "SiAl03 = results3['x'][3*n + 1]\n",
    "t03 = results3['x'][3*n + 2]\n",
    "\n",
    "print '\\nThe following parameters were found:'\n",
    "print '\\tk:      \\t', k3\n",
    "print '\\tAlkExSi:\\t', AlkExSi3\n",
    "print '\\tSi/Al:  \\t', SiAl3\n",
    "print '\\tb:      \\t', b3\n",
    "print '\\tSi/Al0: \\t', SiAl03\n",
    "print '\\tt0:     \\t', t03\n",
    "print ''\n",
    "print 'Cost: ', results3['fun']\n",
    "print ''\n",
    "print results3['flag_hess'], '    ', results3['flag_naninf']"
   ]
  },
  {
   "cell_type": "markdown",
   "metadata": {},
   "source": [
    "# Model Selection\n",
    "\n",
    "We will perform an Akaike test and an F test in order to determine which model, i.e. $n = 1, 2$ or $3$, best fits the data.\n",
    "\n",
    "### All parameters:"
   ]
  },
  {
   "cell_type": "code",
   "execution_count": null,
   "metadata": {
    "collapsed": false
   },
   "outputs": [],
   "source": [
    "print 'Model 1: Cost =', results1['fun']\n",
    "print '\\t[k1, AlkExSi1, SiAl1]:\\t\\t[', k1[0], ',', AlkExSi1[0], ',', SiAl1[0], ']'\n",
    "print '\\t[b, SiAl0, t0]:\\t\\t\\t[', b1, ',', SiAl01, ',', t01, ']'\n",
    "\n",
    "print ''\n",
    "\n",
    "print 'Model 2: Cost =', results2['fun']\n",
    "print '\\t[k1, AlkExSi1, SiAl1]:\\t\\t[', k2[0], ', ', AlkExSi2[0], ', ', SiAl2[0], ']'\n",
    "print '\\t[k1, AlkExSi1, SiAl1]:\\t\\t[', k2[1], ', ', AlkExSi2[1], ', ', SiAl2[1], ']'\n",
    "print '\\t[b, SiAl0, t0]:\\t\\t\\t[', b2, ',', SiAl02, ',', t02, ']'\n",
    "\n",
    "print ''\n",
    "\n",
    "print 'Model 3: Cost =', results3['fun']\n",
    "print '\\t[k1, AlkExSi1, SiAl1]:\\t\\t[', k3[0], ', ', AlkExSi3[0], ', ', SiAl3[0], ']'\n",
    "print '\\t[k1, AlkExSi1, SiAl1]:\\t\\t[', k3[1], ', ', AlkExSi3[1], ', ', SiAl3[1], ']'\n",
    "print '\\t[k1, AlkExSi1, SiAl1]:\\t\\t[', k3[2], ', ', AlkExSi3[2], ', ', SiAl3[2], ']'\n",
    "print '\\t[b, SiAl0, t0]:\\t\\t\\t[', b3, ',', SiAl03, ',', t03, ']'"
   ]
  },
  {
   "cell_type": "markdown",
   "metadata": {},
   "source": [
    "## Akaike test\n",
    "\n",
    "For a least squares problem, the Akaike information is defined as\n",
    "\n",
    "$$\n",
    "    AIC = 2\\times(\\# parameters) + (\\# samples)\\times\\ln\\left(\\frac{RSS}{\\# samples}\\right)\n",
    "$$\n",
    "\n",
    "A correction can be made in order to account for the difference between $\\# parameters$ and $\\# samples$:\n",
    "\n",
    "$$\n",
    "    AICc = AIC + 2\\times\\frac{(\\# parameters)\\times(\\# parameters + 1)}{(\\# sampels) - (\\# parameters) - 1}\n",
    "$$\n",
    "\n",
    "This correction becomes important when $(\\# parameters)^2 \\ll (\\# samples)$.\n",
    "\n",
    "The model with the smallest AICc is the prefered model."
   ]
  },
  {
   "cell_type": "code",
   "execution_count": null,
   "metadata": {
    "collapsed": false
   },
   "outputs": [],
   "source": [
    "RSS = np.array([results1['fun'], results2['fun'], results3['fun']])    # The cost function is precisely the RSS.\n",
    "AIC = np.zeros(3)\n",
    "AICc = np.zeros(3)\n",
    "for i in range(3):\n",
    "    k = 3*(i + 1) + 1                                                  # The variance has to be counted as a parameter as wel.\n",
    "    AIC[i] = 2*k + nsamples*np.log(RSS[i]/nsamples)\n",
    "    AICc[i] = AIC[i] + 2.0*k*(k + 1)/(nsamples- k - 1)                 # Corrected AIC information.\n",
    "\n",
    "for i in range(3):\n",
    "    if AICc[i] == AICc.min():\n",
    "        modelAICc = i + 1\n",
    "        print 'AICc values: ', AICc, ' ==>  Use model', i + 1\n",
    "        break\n",
    "        \n",
    "print 'SELECTED MODEL: n =', n\n",
    "\n",
    "if n == 1:\n",
    "    results = results1\n",
    "elif n == 2:\n",
    "    results = results2\n",
    "else:\n",
    "    results = results3\n",
    "\n",
    "Si, Al = Model(results['x'], time)\n",
    "SiFull, AlFull = Model(results['x'], timeFull)\n",
    "\n",
    "k = results['x'][0:n]\n",
    "AlkExSi = results['x'][n:2*n]\n",
    "SiAl = results['x'][2*n:3*n]\n",
    "b = results['x'][3*n]\n",
    "SiAl0 = results['x'][3*n + 1]\n",
    "t0 = results['x'][3*n + 2]\n",
    "\n",
    "print '\\nThe following parameters were found:'\n",
    "\n",
    "string1 = '[k, AlkExSi, SiAl]'\n",
    "for i in range(n):\n",
    "    string2 = string1[:2] + `i + 1` + string1[3:11] + `i + 1` + string1[11:17] + `i + 1` + string1[17:]\n",
    "    print '\\t',string2, '\\t[', k[i], ',', AlkExSi[i], ',', SiAl[i], ']'\n",
    "print '\\tb:      \\t\\t', b\n",
    "print '\\tSi/Al0: \\t\\t', SiAl0\n",
    "print '\\tt0:     \\t\\t', t0\n"
   ]
  },
  {
   "cell_type": "markdown",
   "metadata": {},
   "source": [
    "# Analysis:\n",
    "\n",
    "By selecting a random subset of the data points (indicated by the variable $datasize$), we can create a new set of observations for the same soil sample. If we do the optimization for this subset of the data, we will get a new (and slightly different) set of optimal parameters.\n",
    "\n",
    "If we do this multiple times (indicated by the variable $runs$), we can calculate the average and standerd deviation over all the parameter sets that were found. These values will allow us to calculate a confidence interval for the parameters.\n",
    "\n",
    "## Confidence interval\n",
    "\n",
    "Once again we can compute confidence intervals. This time, they do not represent the quality of the fit, but rather the range in which the parameters are likely to fall.\n",
    "\n",
    "**Remark 1:** We once again use the Bonferroni correction.\n",
    "\n",
    "**Remark 2:** The check indicates wether or not the parameters estimated by the Monte Carlo method fall within the confidence interval."
   ]
  },
  {
   "cell_type": "code",
   "execution_count": null,
   "metadata": {
    "collapsed": false
   },
   "outputs": [],
   "source": [
    "#\n",
    "datasize = 50               # Number of points we randomly select from all the available data in order to simulate \"new\" data.\n",
    "runs = 100                  # Number of times we will simulate \"new\".\n",
    "\n",
    "# Allocate output:\n",
    "X = np.zeros((runs, 3*n + 3))\n",
    "FUN = np.zeros(runs)\n",
    "timeRUNS = np.zeros((runs, datasize))\n",
    "SiRUNS = np.zeros((runs, datasize))\n",
    "AlRUNS = np.zeros((runs, datasize))\n",
    "\n",
    "# Constraints for the optimization routine:\n",
    "bnds = []\n",
    "for i in range(0, 2*n):\n",
    "    bnds.append((0., None))\n",
    "for i in range(2*n, 3*n):\n",
    "    bnds.append((1e-16, None))\n",
    "bnds.append((0, None))\n",
    "bnds.append((1e-16, None))\n",
    "bnds.append((None, None))\n",
    "bnds = tuple(bnds)\n",
    "\n",
    "#\n",
    "for run in log_progress(range(runs), every = 1):\n",
    "    # Select part of the data:\n",
    "    index = np.random.randint(0, nmeas, datasize)\n",
    "    \n",
    "    # Select the measurement times:\n",
    "    timeRUN = data_np[index, 0]\n",
    "    \n",
    "    # Select the Si and Al data:\n",
    "    SiBarRUN = data_np[index, 1]\n",
    "    AlBarRUN = data_np[index, 2]\n",
    "    \n",
    "    # Take a random percentage shift:\n",
    "    gammaSi = np.random.uniform(-0.11, 0.11)\n",
    "    gammaAl = np.random.uniform(-0.11, 0.11)\n",
    "    \n",
    "    # Add the percentage shift to the data:\n",
    "    SiBarRUN = (1 + gammaSi)*SiBarRUN                                                           # Here the noise is added to Si.\n",
    "    AlBarRUN = (1 + gammaAl)*AlBarRUN                                                           # Here the noise is added to Al.\n",
    "    \n",
    "    # Perform the optimization: (local should work fine since we use a good initial estimate and since the dataset is smaller)\n",
    "    resultsRUN = minimize(Cost, results['x'], args = (SiBarRUN, AlBarRUN, timeRUN), bounds = bnds)\n",
    "    \n",
    "    # Store results:\n",
    "    X[run, :] = resultsRUN['x']\n",
    "    FUN[run] = resultsRUN['fun']\n",
    "    timeRUNS[run, :] = timeRUN\n",
    "    SiRUNS[run, :] = SiBarRUN\n",
    "    AlRUNS[run, :] = AlBarRUN"
   ]
  },
  {
   "cell_type": "code",
   "execution_count": null,
   "metadata": {
    "collapsed": false,
    "scrolled": false
   },
   "outputs": [],
   "source": [
    "# Sort the data:\n",
    "results['x'] = Sort_By_k(results['x'])                 #Sort results according to AlkExSi, k or SiAl\n",
    "for run in range(runs):\n",
    "    X[run, :] = Sort_By_k(X[run, :])                   #Sort results according to AlkExSi, k or SiAl\n",
    "\n",
    "#\n",
    "muX = np.mean(X, 0)\n",
    "sigmaX =  np.std(X, 0, ddof = 3*n + 3)\n",
    "\n",
    "#\n",
    "alpha = 0.05/(3*n + 3)                                   # Bonferroni correction.\n",
    "q = t.ppf(1 - alpha/2, runs - (3*n + 3))\n",
    "lb = muX - q*sigmaX\n",
    "ub = muX + q*sigmaX\n",
    "check = (lb <= results['x']) * (results['x'] <= ub)\n",
    "\n",
    "# Make dataframe:\n",
    "if n == 1:\n",
    "    indices = ['k1', 'AlkExSi1', 'SiAl1', 'b', 'SiAl0', 't0']\n",
    "elif n == 2:\n",
    "    indices = ['k1', 'k2', 'AlkExSi1', 'AlkExSi2', 'SiAl1', 'SiAl2', 'b', 'SiAl0', 't0']\n",
    "else:\n",
    "    indices = ['k1', 'k2', 'k3', 'AlkExSi1', 'AlkExSi2', 'AlkExSi3', 'SiAl1', 'SiAl2', 'SiAl3', 'b', 'SiAl0', 't0']      \n",
    "d = {'Lowerbound':lb, 'Mean':muX, 'Upperbound':ub, 'Width':np.abs(ub - lb), 'std':sigmaX, 'Monte Carlo value':results['x'],\n",
    "     'Monte Carlo between the bounds':check}\n",
    "cols = ['Lowerbound', 'Mean', 'Upperbound', 'Width', 'std', 'Monte Carlo value', 'Monte Carlo between the bounds']\n",
    "df2 = pd.DataFrame(d, columns = cols, index = indices)\n",
    "\n",
    "df2"
   ]
  },
  {
   "cell_type": "markdown",
   "metadata": {},
   "source": [
    "## Percentage bands:\n",
    "\n",
    "To each subset of the data we added a random percentage shift. We can plot the percentage bands around the \"optimal\" curve found with the Monte Carlo analysis and see if the subsets that we used fall within the maximum percentage bands."
   ]
  },
  {
   "cell_type": "code",
   "execution_count": null,
   "metadata": {
    "collapsed": false,
    "scrolled": false
   },
   "outputs": [],
   "source": [
    "# The maximum size of the percentage bands:\n",
    "# (can be different for Si and Al, should be the same value used to add noise to the random subsets)\n",
    "gammaSi = 0.11    #Noise chosen\n",
    "gammaAl = 0.11    #Noise chosen\n",
    "\n",
    "# We will plot every 10th subset of the data that was taken:\n",
    "index = 10 \n",
    "\n",
    "# Plot for Si:\n",
    "plt.figure()\n",
    "plt.plot(timeFull, (1 + gammaSi)*SiFull, 'r--', linewidth = 2)\n",
    "plt.plot(timeFull, SiFull, 'r', label = 'Si', linewidth = 2)\n",
    "plt.plot(timeFull, (1 - gammaSi)*SiFull, 'r--', linewidth = 2)\n",
    "plt.plot(time, SiBar, 'r,')\n",
    "for i in range(0, runs, index):\n",
    "    plt.plot(timeRUNS[i, :], SiRUNS[i, :], 'd', label = 'Run ' + str(i + 1))\n",
    "\n",
    "# Add legend: (if it's too big, you can comment it out)\n",
    "plt.legend(loc = 4, bbox_to_anchor = (1.15, -0.1), ncol = 4)\n",
    "\n",
    "# Plot for Al:\n",
    "plt.figure()\n",
    "plt.plot(timeFull, (1 + gammaAl)*AlFull, 'r--', linewidth = 2)\n",
    "plt.plot(timeFull, AlFull, 'r', label = 'Al', linewidth = 2)\n",
    "plt.plot(timeFull, (1 - gammaAl)*AlFull, 'r--', linewidth = 2)\n",
    "plt.plot(time, AlBar, 'r,')\n",
    "for i in range(0, runs, index):\n",
    "    plt.plot(timeRUNS[i, :], AlRUNS[i, :], 'd', label = 'Run ' + str(i + 1))\n",
    "\n",
    "# Add legend: (if it's too big, you can comment it out)\n",
    "plt.legend(loc = 4, bbox_to_anchor = (1.15, -0.1), ncol = 4)"
   ]
  },
  {
   "cell_type": "code",
   "execution_count": null,
   "metadata": {
    "collapsed": true
   },
   "outputs": [],
   "source": []
  }
 ],
 "metadata": {
  "anaconda-cloud": {},
  "kernelspec": {
   "display_name": "Python [default]",
   "language": "python",
   "name": "python2"
  },
  "language_info": {
   "codemirror_mode": {
    "name": "ipython",
    "version": 2
   },
   "file_extension": ".py",
   "mimetype": "text/x-python",
   "name": "python",
   "nbconvert_exporter": "python",
   "pygments_lexer": "ipython2",
   "version": "2.7.13"
  },
  "widgets": {
   "state": {
    "09f14ac7580d4da8976abdfc0ab2a5c4": {
     "views": [
      {
       "cell_index": 11
      }
     ]
    },
    "174c613c147b498985baa44d3514dcc0": {
     "views": [
      {
       "cell_index": 9
      }
     ]
    },
    "2c58e3058e164a6d91b58617e58bf8da": {
     "views": [
      {
       "cell_index": 13
      }
     ]
    },
    "311d6156619d428c9aacd89ab58515e2": {
     "views": [
      {
       "cell_index": 13
      }
     ]
    },
    "6456e11aa65c404bb8838b8c943d873e": {
     "views": [
      {
       "cell_index": 11
      }
     ]
    },
    "6d2716e2f8fe42d795ca3a06c5c8aca9": {
     "views": [
      {
       "cell_index": 19
      }
     ]
    },
    "9c87a208f8d84ad7a357bd2bb628b558": {
     "views": [
      {
       "cell_index": 9
      }
     ]
    },
    "c1242feb19d74149829c051e98d7d5ea": {
     "views": [
      {
       "cell_index": 9
      }
     ]
    },
    "e58b83e9895d4c24838efff1dfdd449d": {
     "views": [
      {
       "cell_index": 11
      }
     ]
    },
    "feb792faf57a43aa8a82453291409cf1": {
     "views": [
      {
       "cell_index": 13
      }
     ]
    }
   },
   "version": "1.2.0"
  }
 },
 "nbformat": 4,
 "nbformat_minor": 1
}
